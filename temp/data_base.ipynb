{
 "cells": [
  {
   "cell_type": "markdown",
   "metadata": {},
   "source": [
    "# Data Base"
   ]
  },
  {
   "cell_type": "code",
   "execution_count": null,
   "metadata": {},
   "outputs": [],
   "source": [
    "!pip install chromadb -i https://pypi.tuna.tsinghua.edu.cn/simple"
   ]
  },
  {
   "cell_type": "markdown",
   "metadata": {},
   "source": [
    "# Prepare Data"
   ]
  },
  {
   "cell_type": "code",
   "execution_count": 2,
   "metadata": {},
   "outputs": [],
   "source": [
    "import os\n",
    "from dotenv import load_dotenv, find_dotenv\n",
    "from langchain.vectorstores import Chroma\n",
    "from langchain.document_loaders import PyMuPDFLoader\n",
    "from langchain.text_splitter import RecursiveCharacterTextSplitter\n",
    "\n",
    "\n",
    "data_loader_list = [\n",
    "    PyMuPDFLoader(\"/workdir/data_base/knowledge_db/pumkin_book/pumpkin_book.pdf\"),\n",
    "]\n",
    "\n",
    "data = []\n",
    "for loader in data_loader_list:\n",
    "    data.extend(loader.load())\n",
    "\n",
    "chunk_size = 500\n",
    "chunk_overlap = 50\n",
    "text_splitter = RecursiveCharacterTextSplitter(\n",
    "    chunk_size=chunk_size,\n",
    "    chunk_overlap=chunk_overlap\n",
    ")\n",
    "\n",
    "splitted_data = text_splitter.split_documents(data)"
   ]
  },
  {
   "cell_type": "markdown",
   "metadata": {},
   "source": [
    "# Build Database"
   ]
  },
  {
   "cell_type": "code",
   "execution_count": null,
   "metadata": {},
   "outputs": [],
   "source": [
    "# install Model Scope & ZhipuAI chatglm3-6b requirements\n",
    "!pip install protobuf cpm_kernels gradio mdtex2html sentencepiece accelerate -i https://mirrors.aliyun.com/pypi/simple/\n",
    "!pip install modelscope -i https://pypi.tuna.tsinghua.edu.cn/simple\n",
    "!pip install sentence_transformers -i https://pypi.tuna.tsinghua.edu.cn/simple"
   ]
  },
  {
   "cell_type": "markdown",
   "metadata": {},
   "source": [
    "## Download from model scope"
   ]
  },
  {
   "cell_type": "code",
   "execution_count": null,
   "metadata": {},
   "outputs": [],
   "source": [
    "from modelscope import snapshot_download\n",
    "model_dir = snapshot_download(\n",
    "    \"iic/nlp_gte_sentence-embedding_chinese-large\",\n",
    "    revision=\"v1.1.0\",\n",
    "    cache_dir=\"/workdir/data_base/llm_models/ModelScope\"\n",
    ")"
   ]
  },
  {
   "cell_type": "code",
   "execution_count": null,
   "metadata": {},
   "outputs": [],
   "source": [
    "from langchain.embeddings.openai import OpenAIEmbeddings\n",
    "from langchain.embeddings.modelscope_hub import ModelScopeEmbeddings\n",
    "from langchain.embeddings.huggingface import HuggingFaceEmbeddings\n",
    "\n",
    "\n",
    "_ = load_dotenv(find_dotenv())\n",
    "\n",
    "# openai_embedding = OpenAIEmbeddings(\n",
    "#     api_key=os.environ[\"OPENAI_SECRET_KEY\"],\n",
    "#     base_url=os.environ[\"OPENAI_API_BASE\"]\n",
    "# )\n",
    "\n",
    "# model_name = \"\"\n",
    "# model_kwargs = {'device': 'gpu'}\n",
    "# encode_kwargs = {'normalize_embeddings': True}\n",
    "# hf_chatglm_embedding = HuggingFaceBgeEmbeddings(\n",
    "#     model_name=model_name,\n",
    "#     model_kwargs=model_kwargs,\n",
    "#     encode_kwargs=encode_kwargs\n",
    "# )\n",
    "model_dir = \"/workdir/data_base/llm_models/ModelScope/iic/nlp_gte_sentence-embedding_chinese-large\"\n",
    "\n",
    "ms_chatglm_embedding = ModelScopeEmbeddings(\n",
    "    model_id=model_dir, # \n",
    "    model_revision=\"v1.1.0\",\n",
    ")\n",
    "\n",
    "data_base_dir = \"/workdir/data_base/vector_db\"\n",
    "\n",
    "vectordb = Chroma.from_documents(\n",
    "    documents=splitted_data,\n",
    "    embedding=ms_chatglm_embedding,\n",
    "    persist_directory=data_base_dir\n",
    ")\n",
    "\n",
    "vectordb.persist()"
   ]
  },
  {
   "cell_type": "markdown",
   "metadata": {},
   "source": [
    "# Search in Database"
   ]
  },
  {
   "cell_type": "markdown",
   "metadata": {},
   "source": [
    "## Similarity Search"
   ]
  },
  {
   "cell_type": "code",
   "execution_count": null,
   "metadata": {},
   "outputs": [],
   "source": [
    "question = \"什么是机器学习\"\n",
    "sim_docs = vectordb.similarity_search(question, k=3)\n",
    "for i, sim_doc in enumerate(sim_docs):\n",
    "    print(f\"No.{i} similar doc:\\n\\t{sim_doc.page_content}\")"
   ]
  },
  {
   "cell_type": "markdown",
   "metadata": {},
   "source": [
    "## MMR(Maximum Marginal Relevance) Search"
   ]
  },
  {
   "cell_type": "code",
   "execution_count": null,
   "metadata": {},
   "outputs": [],
   "source": [
    "mmr_docs = vectordb.max_marginal_relevance_search(\n",
    "    question,\n",
    "    k=3\n",
    ")\n",
    "for i, mmr_doc in enumerate(mmr_docs):\n",
    "    print(f\"No.{i} mmr doc:\\n\\t{mmr_doc.page_content}\")"
   ]
  },
  {
   "cell_type": "markdown",
   "metadata": {},
   "source": [
    "# Build Retrieval QA Chain"
   ]
  },
  {
   "cell_type": "code",
   "execution_count": null,
   "metadata": {},
   "outputs": [],
   "source": [
    "from langchain.chains import RetrievalQA\n",
    "from modelscope import AutoTokenizer, AutoModel, snapshot_download\n",
    "\n",
    "llm_dir = snapshot_download(\n",
    "    \"ZhipuAI/chatglm3-6b\",\n",
    "    revision=\"v1.0.2\",\n",
    "    cache_dir=\"/workdir/data_base/llm_models/ModelScope\"\n",
    ")\n",
    "tokenizer = AutoTokenizer.from_pretrained(llm_dir)\n",
    "model = AutoTokenizer.from_pretrained(model_dir, trust_remote_code=True)\n",
    "model = model.eval()\n"
   ]
  }
 ],
 "metadata": {
  "kernelspec": {
   "display_name": "Python 3",
   "language": "python",
   "name": "python3"
  },
  "language_info": {
   "codemirror_mode": {
    "name": "ipython",
    "version": 3
   },
   "file_extension": ".py",
   "mimetype": "text/x-python",
   "name": "python",
   "nbconvert_exporter": "python",
   "pygments_lexer": "ipython3",
   "version": "3.10.12"
  }
 },
 "nbformat": 4,
 "nbformat_minor": 2
}
