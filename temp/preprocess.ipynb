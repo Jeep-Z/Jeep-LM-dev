{
 "cells": [
  {
   "cell_type": "code",
   "execution_count": null,
   "metadata": {},
   "outputs": [],
   "source": [
    "!pip install rapidocr_onnxruntime -i https://pypi.tuna.tsinghua.edu.cn/simple\n",
    "!pip install \"unstructured[all-docs]\" -i https://pypi.tuna.tsinghua.edu.cn/simple\n",
    "!pip install pyMuPDF -i https://pypi.tuna.tsinghua.edu.cn/simple"
   ]
  },
  {
   "cell_type": "markdown",
   "metadata": {},
   "source": [
    "## Read PDF"
   ]
  },
  {
   "cell_type": "code",
   "execution_count": null,
   "metadata": {},
   "outputs": [],
   "source": [
    "from langchain.document_loaders import PyMuPDFLoader\n",
    "\n",
    "\n",
    "pdf_loader = PyMuPDFLoader(\"/workdir/data_base/knowledge_db/pumkin_book/pumpkin_book.pdf\")\n",
    "\n",
    "pdf_pages = pdf_loader.load()\n",
    "\n",
    "for p in pdf_pages[:1]:\n",
    "    print(p)"
   ]
  },
  {
   "cell_type": "markdown",
   "metadata": {},
   "source": [
    "## Read Markdown"
   ]
  },
  {
   "cell_type": "code",
   "execution_count": null,
   "metadata": {},
   "outputs": [],
   "source": [
    "from langchain.document_loaders import UnstructuredMarkdownLoader\n",
    "\n",
    "md_loader = UnstructuredMarkdownLoader(\n",
    "    \"/workdir/data_base/knowledge_db/prompt_engineering/1. 简介 Introduction.md\",\n",
    "    # mode=\"elements\", strategy=\"fast\",\n",
    ")\n",
    "md_pages = md_loader.load()\n",
    "\n",
    "print(md_pages)"
   ]
  },
  {
   "cell_type": "markdown",
   "metadata": {},
   "source": [
    "## Read MP4"
   ]
  },
  {
   "cell_type": "code",
   "execution_count": null,
   "metadata": {},
   "outputs": [],
   "source": [
    "!pip install opencv-python==4.9.0.80-i https://pypi.tuna.tsinghua.edu.cn/simple\n",
    "!pip install opencv-contrib-python==4.9.0.80 -i https://pypi.tuna.tsinghua.edu.cn/simple\n",
    "from langchain.document_loaders import UnstructuredFileLoader\n",
    "txt_loader = UnstructuredFileLoader(\"/workdir/data_base/knowledge_db/easy_rl/强化学习入门指南.txt\")\n",
    "txt_pages = txt_loader.load()\n",
    "import cv2\n",
    "for p in txt_pages[:1]:\n",
    "    print(p)"
   ]
  }
 ],
 "metadata": {
  "kernelspec": {
   "display_name": "Python 3",
   "language": "python",
   "name": "python3"
  },
  "language_info": {
   "codemirror_mode": {
    "name": "ipython",
    "version": 3
   },
   "file_extension": ".py",
   "mimetype": "text/x-python",
   "name": "python",
   "nbconvert_exporter": "python",
   "pygments_lexer": "ipython3",
   "version": "3.10.12"
  }
 },
 "nbformat": 4,
 "nbformat_minor": 2
}
